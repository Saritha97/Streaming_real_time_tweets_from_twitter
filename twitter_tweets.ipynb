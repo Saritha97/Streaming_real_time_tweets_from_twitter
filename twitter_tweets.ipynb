{
 "cells": [
  {
   "cell_type": "code",
   "execution_count": null,
   "metadata": {},
   "outputs": [],
   "source": [
    "from tweepy import OAuthHandler\n",
    "from tweepy import Stream\n",
    "import pandas as pd\n",
    "import tweepy"
   ]
  },
  {
   "cell_type": "code",
   "execution_count": null,
   "metadata": {},
   "outputs": [],
   "source": [
    "#authentication\n",
    "\n",
    "auth = tweepy.OAuthHandler(api_key, api_key_secret)\n",
    "auth.set_access_token(access_token, access_token_secret)\n",
    "\n",
    "api = tweepy.API(auth)\n",
    "\n",
    "public_tweets = api.home_timeline()\n",
    "print(public_tweets)"
   ]
  },
  {
   "cell_type": "code",
   "execution_count": null,
   "metadata": {},
   "outputs": [],
   "source": [
    "#Variables that contain the user credentials to access Twitter API\n",
    "api_key = <api_key>\n",
    "api_key_secret = <api_key_secret>\n",
    "access_token = <access_token>\n",
    "access_token_secret = <access_token_secret>\n",
    "token_bearer = <token_bearer>"
   ]
  },
  {
   "cell_type": "code",
   "execution_count": null,
   "metadata": {},
   "outputs": [],
   "source": [
    "client = tweepy.Client(bearer_token = token_bearer)"
   ]
  },
  {
   "cell_type": "code",
   "execution_count": null,
   "metadata": {},
   "outputs": [],
   "source": [
    "query = 'covid is:retweet'\n",
    "\n",
    "response = client.search_recent_tweets(query = query, max_results = 100, tweet_fields = ['created_at', 'lang'], \n",
    "                                       user_fields = ['profile_image_url'], expansions = ['author_id'])\n",
    "\n",
    "users = {u['id']: u for u in response.includes['users']}\n",
    "\n",
    "for tweet in response.data:\n",
    "    if users[tweet.author_id]:\n",
    "        user = users[tweet.author_id]\n",
    "        print(tweet.id)\n",
    "        print(user.username)\n",
    "        print(user.profile_image_url)\n",
    "    "
   ]
  },
  {
   "cell_type": "code",
   "execution_count": null,
   "metadata": {},
   "outputs": [],
   "source": [
    "#location only for academic package\n",
    "\n",
    "query = 'covid is:retweet place_country:us'\n",
    "\n",
    "response = client.search_recent_tweets(query = query, max_results = 100, \n",
    "                                       tweet_fields = ['created_at', 'lang'], expansions = ['geo.place_id'])\n",
    "places = {p['id'] : p for p in response.includes['places']}\n",
    "\n",
    "for tweet in response.data:\n",
    "    if places[tweet.geo['place_id']]:\n",
    "        place = places[tweet.geo['place_id']]\n",
    "        print(tweet.id)\n",
    "        print(place.full_name)"
   ]
  },
  {
   "cell_type": "code",
   "execution_count": null,
   "metadata": {},
   "outputs": [],
   "source": [
    "import logging\n",
    "#to get more than 100 tweets\n",
    "\n",
    "query = 'covid is:retweet'\n",
    "\n",
    "# to write it into a file\n",
    "\n",
    "file_name = 'tweets.txt'\n",
    "with open(file_name, 'a+') as filehandler:\n",
    "    for tweet in tweepy.Paginator(client.search_recent_tweets, query = query, max_results = 100 ).flatten(limit=1000):\n",
    "        #print(tweet.id)\n",
    "        filehandler.write('%s\\n' %tweet.id)"
   ]
  },
  {
   "cell_type": "code",
   "execution_count": null,
   "metadata": {},
   "outputs": [],
   "source": [
    "# full-archive search\n",
    "\n",
    "query = 'covid is:retweet'\n",
    "\n",
    "start_time = '2020-01-01T00:00:00Z'\n",
    "\n",
    "end_time = '2020-05-01T00:00:00Z'\n",
    "\n",
    "response = client.search_all_tweets(query = query, max_results= 100, start_time = start_time, end_time = end_time)\n",
    "\n",
    "for tweet in response.data:\n",
    "    print(tweet.id)\n",
    "    "
   ]
  },
  {
   "cell_type": "code",
   "execution_count": null,
   "metadata": {},
   "outputs": [],
   "source": [
    "#getting tweet counts\n",
    "query = 'covid is:retweet'\n",
    "\n",
    "counts = client.get_recent_tweets_count(query = query, granularity = 'day')\n",
    "\n",
    "for count in counts.data:\n",
    "    print(count)"
   ]
  },
  {
   "cell_type": "code",
   "execution_count": null,
   "metadata": {},
   "outputs": [],
   "source": [
    "#getting user id\n",
    "\n",
    "query = 'covid is:retweet'\n",
    "\n",
    "users = client.get_users(usernames=['twitterdev'])\n",
    "for user in users:\n",
    "    print(user)"
   ]
  },
  {
   "cell_type": "code",
   "execution_count": null,
   "metadata": {},
   "outputs": [],
   "source": [
    "#get user timeline\n",
    "\n",
    "USER_ID ='2244994945'\n",
    "\n",
    "tweets = client.get_users_tweets(id = USER_ID, tweet_fields=['lang'])\n",
    "\n",
    "for tweet in tweets.data:\n",
    "    print(tweet.id)\n",
    "    print(tweet.lang)"
   ]
  },
  {
   "cell_type": "code",
   "execution_count": null,
   "metadata": {},
   "outputs": [],
   "source": [
    "#get user mentons\n",
    "\n",
    "USER_ID ='2244994945'\n",
    "\n",
    "tweets = client.get_users_mentions(id = USER_ID, tweet_fields=['lang'])\n",
    "\n",
    "for tweet in tweets.data:\n",
    "    print(tweet.id)\n",
    "    print(tweet.lang)"
   ]
  },
  {
   "cell_type": "code",
   "execution_count": null,
   "metadata": {},
   "outputs": [],
   "source": [
    "# to get users followers\n",
    "\n",
    "users = client.get_users_followers(USER_ID, user_fields = ['profile_image_url'])\n",
    "\n",
    "for user in users.data:\n",
    "    print(user.profile_image_url)\n",
    "    "
   ]
  },
  {
   "cell_type": "code",
   "execution_count": null,
   "metadata": {},
   "outputs": [],
   "source": [
    "# get the user that the particular user is following\n",
    "\n",
    "users = client.get_users_following(USER_ID, user_fields = ['profile_image_url'])\n",
    "\n",
    "for user in users.data:\n",
    "    print(user.profile_image_url)"
   ]
  },
  {
   "cell_type": "code",
   "execution_count": null,
   "metadata": {},
   "outputs": [],
   "source": [
    "#get users that like a tweet\n",
    "\n",
    "TWEET_ID = '1528576711209766914'\n",
    "\n",
    "users = client.get_liking_users(id = TWEET_ID)\n",
    "\n",
    "for user in users.data:\n",
    "    print(user.username)"
   ]
  },
  {
   "cell_type": "code",
   "execution_count": null,
   "metadata": {},
   "outputs": [],
   "source": [
    "#get users that re-tweeted\n",
    "\n",
    "TWEET_ID = '1528576711209766914'\n",
    "\n",
    "users = client.get_retweeters(id = TWEET_ID)\n",
    "\n",
    "for user in users.data:\n",
    "    print(user.username)"
   ]
  },
  {
   "cell_type": "code",
   "execution_count": null,
   "metadata": {},
   "outputs": [],
   "source": [
    "#using tweetid to look up at the tweet\n",
    "\n",
    "response = client.get_tweet(id = TWEET_ID, tweet_fields=['created_at'])\n",
    "\n",
    "tweet = response.data\n",
    "print(tweet.created_at)"
   ]
  },
  {
   "cell_type": "code",
   "execution_count": null,
   "metadata": {},
   "outputs": [],
   "source": [
    "#creating a tweet with a text\n",
    "\n",
    "client = tweepy.Client(consumer_key = api_key, consumer_secret = api_key_secret,\n",
    "                      access_token = access_token, access_token_secret = access_token_secret)\n",
    "\n",
    "response = client.create_tweet(text = 'Hello World!!', poll_duration_minutes=60, poll_options=['yes', 'no'])\n",
    "\n",
    "print(response)"
   ]
  },
  {
   "cell_type": "code",
   "execution_count": null,
   "metadata": {},
   "outputs": [],
   "source": [
    "#re-tweet a tweet\n",
    "\n",
    "response = client.retweet(tweet_id = '1528757130634752001')\n",
    "\n",
    "print(response)"
   ]
  },
  {
   "cell_type": "code",
   "execution_count": null,
   "metadata": {},
   "outputs": [],
   "source": [
    "#reply to tweet\n",
    "\n",
    "response = client.create_tweet(in_reply_to_tweet_id = '1528757130634752001', text = 'Hello')\n",
    "\n",
    "print(response)"
   ]
  }
 ],
 "metadata": {
  "kernelspec": {
   "display_name": "Python 3",
   "language": "python",
   "name": "python3"
  },
  "language_info": {
   "codemirror_mode": {
    "name": "ipython",
    "version": 3
   },
   "file_extension": ".py",
   "mimetype": "text/x-python",
   "name": "python",
   "nbconvert_exporter": "python",
   "pygments_lexer": "ipython3",
   "version": "3.8.5"
  }
 },
 "nbformat": 4,
 "nbformat_minor": 4
}
